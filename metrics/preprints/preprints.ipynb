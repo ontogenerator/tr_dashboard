{
 "cells": [
  {
   "cell_type": "code",
   "execution_count": 1,
   "metadata": {},
   "outputs": [],
   "source": [
    "import dimcli\n",
    "import json\n",
    "import math\n",
    "import time\n",
    "import pandas as pd"
   ]
  },
  {
   "cell_type": "code",
   "execution_count": 2,
   "metadata": {},
   "outputs": [
    {
     "name": "stderr",
     "output_type": "stream",
     "text": [
      "\u001b[2mSearching config file credentials for default 'live' instance..\u001b[0m\n"
     ]
    },
    {
     "name": "stdout",
     "output_type": "stream",
     "text": [
      "\u001b[2mDimcli - Dimensions API Client (v0.9.9.1)\u001b[0m\n",
      "\u001b[2mConnected to: <https://app.dimensions.ai/api/dsl> - DSL v2.5\u001b[0m\n",
      "\u001b[2mMethod: dsl.ini file\u001b[0m\n"
     ]
    }
   ],
   "source": [
    "dimcli.login()"
   ]
  },
  {
   "cell_type": "markdown",
   "metadata": {},
   "source": [
    "#### Search filters"
   ]
  },
  {
   "cell_type": "code",
   "execution_count": 3,
   "metadata": {},
   "outputs": [],
   "source": [
    "years = [year for year in range(2006,2023)]\n",
    "years_search = json.dumps(str(years))\n",
    "charite_grid_id = ['grid.6363.0']\n",
    "euha_grid_ids = [\n",
    "    'grid.50550.35', 'grid.5645.2', 'grid.18887.3e', 'grid.24381.3c',\n",
    "    'grid.467480.9', 'grid.22937.3d', 'grid.410569.f', 'grid.411083.f',\n",
    "    'grid.411904.9' \n",
    "]"
   ]
  },
  {
   "cell_type": "code",
   "execution_count": 4,
   "metadata": {},
   "outputs": [],
   "source": [
    "def preprint_records(grid_ids, years):\n",
    "    dsl = dimcli.Dsl()\n",
    "    data = dsl.query_iterative(f\"\"\"search publications \n",
    "    where year in {years} and \n",
    "    research_orgs in {json.dumps(grid_ids)} and \n",
    "    type=\"preprint\"\n",
    "    return publications[id + doi + title + year + journal + linkout + research_org_names + research_orgs]\"\"\")\n",
    "    return data.as_dataframe()\n"
   ]
  },
  {
   "cell_type": "markdown",
   "metadata": {},
   "source": [
    "#### Get results"
   ]
  },
  {
   "cell_type": "code",
   "execution_count": 5,
   "metadata": {},
   "outputs": [
    {
     "name": "stderr",
     "output_type": "stream",
     "text": [
      "Starting iteration with limit=1000 skip=0 ...\u001b[0m\n",
      "0-1000 / 3474 (3.40s)\u001b[0m\n",
      "1000-2000 / 3474 (3.12s)\u001b[0m\n",
      "2000-3000 / 3474 (4.11s)\u001b[0m\n",
      "3000-3474 / 3474 (6.88s)\u001b[0m\n",
      "===\n",
      "Records extracted: 3474\u001b[0m\n"
     ]
    }
   ],
   "source": [
    "preprint_results = preprint_records(charite_grid_id, years)\n",
    "# euha_preprint_results = preprint_records(euha_grid_ids, years)"
   ]
  },
  {
   "cell_type": "code",
   "execution_count": 6,
   "metadata": {},
   "outputs": [],
   "source": [
    "preprint_results.to_csv(\"../../results/preprints.csv\")\n",
    "# euha_preprint_results.to_csv(\"../../results/euha_preprints.csv\")"
   ]
  },
  {
   "cell_type": "code",
   "execution_count": null,
   "metadata": {},
   "outputs": [],
   "source": []
  }
 ],
 "metadata": {
  "kernelspec": {
   "display_name": "Python 3.10.7 64-bit",
   "language": "python",
   "name": "python3"
  },
  "language_info": {
   "codemirror_mode": {
    "name": "ipython",
    "version": 3
   },
   "file_extension": ".py",
   "mimetype": "text/x-python",
   "name": "python",
   "nbconvert_exporter": "python",
   "pygments_lexer": "ipython3",
   "version": "3.10.7"
  },
  "vscode": {
   "interpreter": {
    "hash": "3b5e2fc145650e723a45cb72dd4dc24375d471194584b844f262dc0a3cd4f53b"
   }
  }
 },
 "nbformat": 4,
 "nbformat_minor": 2
}
